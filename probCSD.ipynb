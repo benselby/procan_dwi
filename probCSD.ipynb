{
 "cells": [
  {
   "cell_type": "markdown",
   "metadata": {},
   "source": [
    "This notebook contains the processing pipeline for performing probabilistic CSD on PROCAN data using Dipy."
   ]
  },
  {
   "cell_type": "code",
   "execution_count": 1,
   "metadata": {
    "collapsed": false
   },
   "outputs": [],
   "source": [
    "import numpy as np\n",
    "\n",
    "from os.path import join\n",
    "from os import listdir\n",
    "import fnmatch\n",
    "import sys\n",
    "import time\n",
    "\n",
    "import nibabel as nib"
   ]
  },
  {
   "cell_type": "code",
   "execution_count": 2,
   "metadata": {
    "collapsed": false
   },
   "outputs": [
    {
     "name": "stderr",
     "output_type": "stream",
     "text": [
      "/home/ben/anaconda2/lib/python2.7/site-packages/skimage/filter/__init__.py:6: skimage_deprecation: The `skimage.filter` module has been renamed to `skimage.filters`.  This placeholder module will be removed in v0.13.\n",
      "  warn(skimage_deprecation('The `skimage.filter` module has been renamed '\n"
     ]
    }
   ],
   "source": [
    "from dipy.segment.mask import median_otsu\n",
    "from dipy.core.histeq import histeq\n",
    "from dipy.io import read_bvals_bvecs\n",
    "from dipy.core.gradients import gradient_table\n",
    "from dipy.reconst.csdeconv import recursive_response\n",
    "import dipy.reconst.dti as dti\n",
    "from dipy.reconst.csdeconv import ConstrainedSphericalDeconvModel\n",
    "from dipy.direction import ProbabilisticDirectionGetter\n",
    "from dipy.data import default_sphere\n",
    "from dipy.tracking.local import ThresholdTissueClassifier\n",
    "from dipy.tracking import utils\n",
    "from dipy.tracking.local import LocalTracking\n",
    "from dipy.viz.colormap import line_colors\n",
    "from dipy.io.trackvis import save_trk    \n",
    "from dipy.io.pickles import save_pickle"
   ]
  },
  {
   "cell_type": "code",
   "execution_count": 14,
   "metadata": {
    "collapsed": false
   },
   "outputs": [
    {
     "name": "stdout",
     "output_type": "stream",
     "text": [
      "\n",
      "----CAL0024_BL----\n",
      "B1000: /hdd/PROCAN_DTI/CAL0024_BL/DTI_ASSET45dir_B1000_17\n",
      "Processed folder: /hdd/PROCAN_DTI/CAL0024_BL/DTI_ASSET45dir_B1000_17/DTI_1000_process\n",
      "DWI location:  /hdd/PROCAN_DTI/CAL0024_BL/DTI_ASSET45dir_B1000_17/DTI_1000_process/data.nii\n",
      "b-value location:  /hdd/PROCAN_DTI/CAL0024_BL/DTI_ASSET45dir_B1000_17/DTI_1000_process/20150716_141017JAFMRIPROCANv32015MAs017a1001.bval\n",
      "b-vector location:  /hdd/PROCAN_DTI/CAL0024_BL/DTI_ASSET45dir_B1000_17/DTI_1000_process/20150716_141017JAFMRIPROCANv32015MAs017a1001.bvec\n",
      "Data shape:  (256, 256, 63, 53)\n",
      "Voxel size:  (0.85939997, 0.85939997, 2.2)\n",
      "Gradient table: B-values shape (53,)\n",
      "         min 0.000000 \n",
      "         max 1000.000000 \n",
      "B-vectors shape (53, 3)\n",
      "         min -1.000000 \n",
      "         max 1.000000 \n",
      " None\n",
      "Time to fit tensor model: 59.6943500042\n",
      "FA/MD calc time: 60.0819091797\n",
      "Response function calc time: 846.004232168\n",
      "CSD fit time: 379.864629984\n",
      "Probabilistic direction getter time: 3.83863306046\n",
      "Tracking time: 0.000173091888428\n",
      "Saved .trk to /hdd/PROCAN_DTI/CAL0024_BL/CAL0024_BL_B1000.trk\n",
      "Total process time: 1840.15215683\n"
     ]
    }
   ],
   "source": [
    "root = '/hdd/PROCAN_DTI'\n",
    "dirs = listdir(root)\n",
    "# p_list = ['0006','0007','0009','0010','0011','0017',]\n",
    "p_list = ['0024']\n",
    "streams = []\n",
    "for i in range(len(p_list)):\n",
    "    pdir = 'CAL' + p_list[i] + '_BL'\n",
    "    try:\n",
    "        print \"\\n----\" + pdir + '----'\n",
    "        \n",
    "        b1000_dir = None\n",
    "        b2500_dir = None\n",
    "        \n",
    "        bval_1000 = None\n",
    "        bval_2500 = None\n",
    "        \n",
    "        bvec_1000 = None\n",
    "        bvec_2500 = None        \n",
    "        \n",
    "        path = join(root, pdir)\n",
    "        \n",
    "        for file in listdir(path):\n",
    "            if fnmatch.fnmatch(file, '*1000*'):\n",
    "                b1000_dir = file\n",
    "            elif fnmatch.fnmatch(file, '*2500*'):\n",
    "                b2500_dir = file\n",
    "                \n",
    "        print \"B1000:\", join(path,b1000_dir)      \n",
    "        \n",
    "        b1000_out_dir = None\n",
    "        for file in listdir( join(path,b1000_dir) ):\n",
    "            if fnmatch.fnmatch(file, 'DTI_1000_process'):\n",
    "                b1000_out_dir = join(path, b1000_dir, file)\n",
    "                break\n",
    "                \n",
    "        print \"Processed folder:\", b1000_out_dir\n",
    "                \n",
    "        for file in listdir(b1000_out_dir):\n",
    "            if fnmatch.fnmatch(file, '*.bval'):\n",
    "                bval_1000 = file\n",
    "            elif fnmatch.fnmatch(file, '*.bvec'):\n",
    "                bvec_1000 = file\n",
    "        \n",
    "        fdwi = join(path, b1000_out_dir, 'data.nii')\n",
    "        fbval = join(path, b1000_out_dir, bval_1000)\n",
    "        fbvec = join(path, b1000_out_dir, bvec_1000)\n",
    "        \n",
    "        print \"DWI location: \", fdwi\n",
    "        print \"b-value location: \", fbval\n",
    "        print \"b-vector location: \", fbvec                \n",
    "          \n",
    "        streamlines = process_DWI(pdir+'_B1000', fdwi, fbval, fbvec, path)\n",
    "#         streams.append(streamlines)\n",
    "        \n",
    "    except OSError as e:\n",
    "        print e.strerror\n",
    "    "
   ]
  },
  {
   "cell_type": "code",
   "execution_count": 13,
   "metadata": {
    "collapsed": true
   },
   "outputs": [],
   "source": [
    "def process_DWI(pid, fdwi, fbval, fbvec, path):\n",
    "    call_time = time.time()\n",
    "    img = nib.load(fdwi)    \n",
    "    data_raw = img.get_data()\n",
    "    print \"Data shape: \", data_raw.shape\n",
    "    print \"Voxel size: \", img.header.get_zooms()[:3]\n",
    "    \n",
    "    b0_mask, mask = median_otsu(data_raw, 2, 1)\n",
    "\n",
    "    mask_img = nib.Nifti1Image(mask.astype(np.float32), img.affine)\n",
    "    b0_img = nib.Nifti1Image(b0_mask.astype(np.float32), img.affine)\n",
    "\n",
    "    data = b0_mask\n",
    "    \n",
    "    # We need the b-values and b-vectors \n",
    "    bvals, bvecs = read_bvals_bvecs(fbval, fbvec)\n",
    "\n",
    "    # Construct the GradientTable which Dipy uses to hold all acquisition \n",
    "    # specifc parameters: bvals, bvecs, timings, etc.\n",
    "    gtab = gradient_table(bvals, bvecs)\n",
    "    print \"Gradient table: \", gtab.info\n",
    "        \n",
    "    st=time.time()\n",
    "    tenmodel = dti.TensorModel(gtab)\n",
    "    # tenfit = tenmodel.fit(data, mask=data[...,0] > 200)  # Where does this mask come from? what are we masking on? \n",
    "    tenfit = tenmodel.fit(data, mask=data[...,0] > 400) \n",
    "    print \"Time to fit tensor model:\", time.time()-st\n",
    "    \n",
    "    FA = dti.fractional_anisotropy(tenfit.evals)\n",
    "    MD = dti.mean_diffusivity(tenfit.evals)\n",
    "    print \"FA/MD calc time:\", time.time()-st\n",
    "    wm_mask = (np.logical_or(FA >= 0.4, (np.logical_and(FA >= 0.15, MD >= 0.0011)))) # Original mask from tutorial\n",
    "    \n",
    "    response = recursive_response(gtab, data, mask=wm_mask, sh_order=8, \n",
    "                                 peak_thr=0.01, init_fa=0.08,\n",
    "                                 init_trace=0.0021, iter=8, convergence=0.001,\n",
    "                                 parallel=True)\n",
    "    print \"Response function calc time:\", time.time()-st\n",
    "    \n",
    "    st = time.time()\n",
    "    csd_model = ConstrainedSphericalDeconvModel(gtab, response)\n",
    "\n",
    "    csd_fit = csd_model.fit(data)\n",
    "    print \"CSD fit time:\", time.time()-st\n",
    "    \n",
    "    st = time.time()\n",
    "    prob_dg = ProbabilisticDirectionGetter.from_shcoeff(csd_fit.shm_coeff,\n",
    "                                                     max_angle=30.,\n",
    "                                                     sphere=default_sphere)\n",
    "    print \"Probabilistic direction getter time:\", time.time()-st\n",
    "    \n",
    "    classifier = ThresholdTissueClassifier(FA, 0.2)\n",
    "    affine = img.affine\n",
    "    seeds = utils.seeds_from_mask(wm_mask, density=[1,1,1], affine=affine)\n",
    "    \n",
    "    # Init LocalTracking\n",
    "    st = time.time()\n",
    "    streamlines = LocalTracking(prob_dg, classifier, seeds, affine, step_size=0.5, max_cross=1)\n",
    "    print \"Tracking time:\", time.time()-st\n",
    "    # print list(streamlines)\n",
    "\n",
    "    # store streamlines as a list:\n",
    "    streamlines = list(streamlines)\n",
    "    color = line_colors(streamlines)\n",
    "    \n",
    "    # Save the streamlines to a trackvis file for external processing\n",
    "    trk_path = join(path, pid + \".trk\")\n",
    "    save_trk(trk_path, streamlines, affine, data[...,0].shape)\n",
    "    print \"Saved .trk to\", trk_path\n",
    "    print \"Total process time:\", time.time()-call_time\n",
    "    \n",
    "    # Pickle the streamlines\n",
    "#     pick_path = join(path, pid + \".p\")\n",
    "    \n",
    "#     st = time.time()\n",
    "#     save_pickle(pick_path, [streamlines])\n",
    "#     print \"Pickle time:\", time.time()-st\n",
    "\n",
    "    return streamlines"
   ]
  },
  {
   "cell_type": "code",
   "execution_count": 19,
   "metadata": {
    "collapsed": false
   },
   "outputs": [
    {
     "name": "stdout",
     "output_type": "stream",
     "text": [
      "Time to read .trk: 1.63856601715\n",
      "182613\n",
      "(array([[  45.26596451,  108.07085419,   71.07394409],\n",
      "       [  45.11849976,  107.85469818,   71.5       ],\n",
      "       [  45.03215408,  107.60952759,   71.92713165]], dtype=float32), None, None)\n"
     ]
    }
   ],
   "source": [
    "# from dipy.data import get_data\n",
    "# fname = get_data('/hdd/PROCAN_DTI/CAL0005_BL/CAL0005_BL_B1000.trk')\n",
    "# print fname\n",
    "st = time.time()\n",
    "strs, hdr = nib.trackvis.read('/hdd/PROCAN_DTI/CAL0005_BL/CAL0005_BL_B1000.trk')\n",
    "print \"Time to read .trk:\", time.time()-st\n",
    "str_list = [x[0] for x in strs]"
   ]
  },
  {
   "cell_type": "code",
   "execution_count": 25,
   "metadata": {
    "collapsed": true
   },
   "outputs": [],
   "source": [
    "ren = fvtk.ren()\n",
    "streamlines_actor = fvtk.line(str_list, line_colors(str_list))\n",
    "fvtk.add(ren, streamlines_actor)\n",
    "fvtk.show(ren)"
   ]
  },
  {
   "cell_type": "code",
   "execution_count": null,
   "metadata": {
    "collapsed": true
   },
   "outputs": [],
   "source": []
  }
 ],
 "metadata": {
  "kernelspec": {
   "display_name": "Python 2",
   "language": "python",
   "name": "python2"
  },
  "language_info": {
   "codemirror_mode": {
    "name": "ipython",
    "version": 2
   },
   "file_extension": ".py",
   "mimetype": "text/x-python",
   "name": "python",
   "nbconvert_exporter": "python",
   "pygments_lexer": "ipython2",
   "version": "2.7.12"
  }
 },
 "nbformat": 4,
 "nbformat_minor": 0
}
